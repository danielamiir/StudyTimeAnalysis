{
 "cells": [
  {
   "cell_type": "markdown",
   "id": "1f93021c-f83a-4014-bdfe-87b0305bc22b",
   "metadata": {},
   "source": [
    "# Study Time Analysis\n",
    "\n",
    "Analysis using studied time and grades."
   ]
  },
  {
   "cell_type": "code",
   "execution_count": 2,
   "id": "3aa577ab-2919-4d81-89f1-f2e17d9b3b92",
   "metadata": {},
   "outputs": [
    {
     "name": "stdout",
     "output_type": "stream",
     "text": [
      "Hello peeps\n"
     ]
    }
   ],
   "source": [
    "print(\"Hello peeps\")"
   ]
  },
  {
   "cell_type": "code",
   "execution_count": null,
   "id": "13b3b33a-9cf1-4819-bd9f-6ef176946a8b",
   "metadata": {},
   "outputs": [],
   "source": []
  }
 ],
 "metadata": {
  "kernelspec": {
   "display_name": "Python 3 (ipykernel)",
   "language": "python",
   "name": "python3"
  },
  "language_info": {
   "codemirror_mode": {
    "name": "ipython",
    "version": 3
   },
   "file_extension": ".py",
   "mimetype": "text/x-python",
   "name": "python",
   "nbconvert_exporter": "python",
   "pygments_lexer": "ipython3",
   "version": "3.9.16"
  }
 },
 "nbformat": 4,
 "nbformat_minor": 5
}
